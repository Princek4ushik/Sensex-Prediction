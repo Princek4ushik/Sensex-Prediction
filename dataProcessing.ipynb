{
 "cells": [
  {
   "cell_type": "markdown",
   "id": "04303c04-7a23-4b41-9cc6-01c6cdef00cf",
   "metadata": {},
   "source": [
    "# Data Processing"
   ]
  },
  {
   "cell_type": "markdown",
   "id": "967c6765",
   "metadata": {},
   "source": [
    "## Imports and Reading data"
   ]
  },
  {
   "cell_type": "code",
   "execution_count": 1,
   "id": "8e1914de-8ff4-4171-9861-aa94b819d8e9",
   "metadata": {},
   "outputs": [],
   "source": [
    "import pandas as pd\n",
    "import matplotlib.pyplot as plt\n",
    "import seaborn as sns"
   ]
  },
  {
   "cell_type": "code",
   "execution_count": 2,
   "id": "46608a11-9bbf-4016-bb66-ff059418d9bd",
   "metadata": {},
   "outputs": [],
   "source": [
    "gdp = pd.read_csv(\"Data/gdp.csv\")\n",
    "inf = pd.read_csv(\"Data/inflation.csv\")\n",
    "intr = pd.read_csv(\"Data/interest.csv\")\n",
    "lpel = pd.read_csv(\"Data/leapNelection.csv\")\n",
    "ssx = pd.read_csv(\"Data/sensex.csv\", parse_dates=[0], date_format='%d-%b-%y')\n",
    "usinr = pd.read_csv(\"Data/usd_inr.csv\", parse_dates=[0], date_format='%d-%m-%y')\n",
    "dj = pd.read_csv(\"Data/dowJones.csv\")\n",
    "gold = pd.read_csv(\"Data/gold.csv\")\n",
    "oil = pd.read_csv(\"Data/oil.csv\")\n",
    "\n",
    "gdp = gdp[['year', 'gdp']]\n",
    "usinr = usinr[['date', 'price']]"
   ]
  },
  {
   "cell_type": "markdown",
   "id": "e239c204-45f3-4e99-8369-cb5c82ca6548",
   "metadata": {},
   "source": [
    "## GDP"
   ]
  },
  {
   "cell_type": "code",
   "execution_count": 3,
   "id": "20e7b94f-1090-45d2-aa6c-ade882f0aecb",
   "metadata": {},
   "outputs": [
    {
     "data": {
      "text/html": [
       "<div>\n",
       "<style scoped>\n",
       "    .dataframe tbody tr th:only-of-type {\n",
       "        vertical-align: middle;\n",
       "    }\n",
       "\n",
       "    .dataframe tbody tr th {\n",
       "        vertical-align: top;\n",
       "    }\n",
       "\n",
       "    .dataframe thead th {\n",
       "        text-align: right;\n",
       "    }\n",
       "</style>\n",
       "<table border=\"1\" class=\"dataframe\">\n",
       "  <thead>\n",
       "    <tr style=\"text-align: right;\">\n",
       "      <th></th>\n",
       "      <th>year</th>\n",
       "      <th>gdp</th>\n",
       "    </tr>\n",
       "  </thead>\n",
       "  <tbody>\n",
       "    <tr>\n",
       "      <th>0</th>\n",
       "      <td>1990</td>\n",
       "      <td>5.533455</td>\n",
       "    </tr>\n",
       "    <tr>\n",
       "      <th>1</th>\n",
       "      <td>1991</td>\n",
       "      <td>1.056831</td>\n",
       "    </tr>\n",
       "    <tr>\n",
       "      <th>2</th>\n",
       "      <td>1992</td>\n",
       "      <td>5.482396</td>\n",
       "    </tr>\n",
       "    <tr>\n",
       "      <th>3</th>\n",
       "      <td>1993</td>\n",
       "      <td>4.750776</td>\n",
       "    </tr>\n",
       "    <tr>\n",
       "      <th>4</th>\n",
       "      <td>1994</td>\n",
       "      <td>6.658924</td>\n",
       "    </tr>\n",
       "  </tbody>\n",
       "</table>\n",
       "</div>"
      ],
      "text/plain": [
       "   year       gdp\n",
       "0  1990  5.533455\n",
       "1  1991  1.056831\n",
       "2  1992  5.482396\n",
       "3  1993  4.750776\n",
       "4  1994  6.658924"
      ]
     },
     "execution_count": 3,
     "metadata": {},
     "output_type": "execute_result"
    }
   ],
   "source": [
    "gdp.head()"
   ]
  },
  {
   "cell_type": "code",
   "execution_count": 4,
   "id": "c167258d-dade-4ed8-8678-6ef0c3203204",
   "metadata": {},
   "outputs": [
    {
     "data": {
      "text/html": [
       "<div>\n",
       "<style scoped>\n",
       "    .dataframe tbody tr th:only-of-type {\n",
       "        vertical-align: middle;\n",
       "    }\n",
       "\n",
       "    .dataframe tbody tr th {\n",
       "        vertical-align: top;\n",
       "    }\n",
       "\n",
       "    .dataframe thead th {\n",
       "        text-align: right;\n",
       "    }\n",
       "</style>\n",
       "<table border=\"1\" class=\"dataframe\">\n",
       "  <thead>\n",
       "    <tr style=\"text-align: right;\">\n",
       "      <th></th>\n",
       "      <th>year</th>\n",
       "      <th>gdp</th>\n",
       "    </tr>\n",
       "  </thead>\n",
       "  <tbody>\n",
       "    <tr>\n",
       "      <th>count</th>\n",
       "      <td>35.000000</td>\n",
       "      <td>35.000000</td>\n",
       "    </tr>\n",
       "    <tr>\n",
       "      <th>mean</th>\n",
       "      <td>2007.000000</td>\n",
       "      <td>5.933885</td>\n",
       "    </tr>\n",
       "    <tr>\n",
       "      <th>std</th>\n",
       "      <td>10.246951</td>\n",
       "      <td>2.828541</td>\n",
       "    </tr>\n",
       "    <tr>\n",
       "      <th>min</th>\n",
       "      <td>1990.000000</td>\n",
       "      <td>-5.831053</td>\n",
       "    </tr>\n",
       "    <tr>\n",
       "      <th>25%</th>\n",
       "      <td>1998.500000</td>\n",
       "      <td>4.787371</td>\n",
       "    </tr>\n",
       "    <tr>\n",
       "      <th>50%</th>\n",
       "      <td>2007.000000</td>\n",
       "      <td>6.658924</td>\n",
       "    </tr>\n",
       "    <tr>\n",
       "      <th>75%</th>\n",
       "      <td>2015.500000</td>\n",
       "      <td>7.861135</td>\n",
       "    </tr>\n",
       "    <tr>\n",
       "      <th>max</th>\n",
       "      <td>2024.000000</td>\n",
       "      <td>9.050278</td>\n",
       "    </tr>\n",
       "  </tbody>\n",
       "</table>\n",
       "</div>"
      ],
      "text/plain": [
       "              year        gdp\n",
       "count    35.000000  35.000000\n",
       "mean   2007.000000   5.933885\n",
       "std      10.246951   2.828541\n",
       "min    1990.000000  -5.831053\n",
       "25%    1998.500000   4.787371\n",
       "50%    2007.000000   6.658924\n",
       "75%    2015.500000   7.861135\n",
       "max    2024.000000   9.050278"
      ]
     },
     "execution_count": 4,
     "metadata": {},
     "output_type": "execute_result"
    }
   ],
   "source": [
    "gdp.describe()"
   ]
  },
  {
   "cell_type": "code",
   "execution_count": 5,
   "id": "04c051b7-86cc-4cc3-b171-64be8f5739a8",
   "metadata": {},
   "outputs": [
    {
     "data": {
      "text/plain": [
       "Text(0, 0.5, 'GDP %')"
      ]
     },
     "execution_count": 5,
     "metadata": {},
     "output_type": "execute_result"
    },
    {
     "data": {
      "image/png": "[encoded data removed]",
      "text/plain": [
       "<Figure size 800x600 with 1 Axes>"
      ]
     },
     "metadata": {},
     "output_type": "display_data"
    }
   ],
   "source": [
    "fig, ax = plt.subplots(figsize=(8, 6))\n",
    "ax.plot(gdp['year'], gdp['gdp'])\n",
    "ax.set_title('GDP Growth rate')\n",
    "ax.set_xlabel('Year')\n",
    "ax.set_ylabel('GDP %')"
   ]
  },
  {
   "cell_type": "markdown",
   "id": "d6ef38ac-fa25-471d-a6e0-913571c581bd",
   "metadata": {},
   "source": [
    "## Inflation"
   ]
  },
  {
   "cell_type": "code",
   "execution_count": 6,
   "id": "24bc83b0-f0f3-461f-899d-af616ed9c33a",
   "metadata": {},
   "outputs": [
    {
     "data": {
      "text/html": [
       "<div>\n",
       "<style scoped>\n",
       "    .dataframe tbody tr th:only-of-type {\n",
       "        vertical-align: middle;\n",
       "    }\n",
       "\n",
       "    .dataframe tbody tr th {\n",
       "        vertical-align: top;\n",
       "    }\n",
       "\n",
       "    .dataframe thead th {\n",
       "        text-align: right;\n",
       "    }\n",
       "</style>\n",
       "<table border=\"1\" class=\"dataframe\">\n",
       "  <thead>\n",
       "    <tr style=\"text-align: right;\">\n",
       "      <th></th>\n",
       "      <th>year</th>\n",
       "      <th>rate</th>\n",
       "    </tr>\n",
       "  </thead>\n",
       "  <tbody>\n",
       "    <tr>\n",
       "      <th>0</th>\n",
       "      <td>1990</td>\n",
       "      <td>8.971233</td>\n",
       "    </tr>\n",
       "    <tr>\n",
       "      <th>1</th>\n",
       "      <td>1991</td>\n",
       "      <td>13.870246</td>\n",
       "    </tr>\n",
       "    <tr>\n",
       "      <th>2</th>\n",
       "      <td>1992</td>\n",
       "      <td>11.787817</td>\n",
       "    </tr>\n",
       "    <tr>\n",
       "      <th>3</th>\n",
       "      <td>1993</td>\n",
       "      <td>6.326890</td>\n",
       "    </tr>\n",
       "    <tr>\n",
       "      <th>4</th>\n",
       "      <td>1994</td>\n",
       "      <td>10.247936</td>\n",
       "    </tr>\n",
       "  </tbody>\n",
       "</table>\n",
       "</div>"
      ],
      "text/plain": [
       "   year       rate\n",
       "0  1990   8.971233\n",
       "1  1991  13.870246\n",
       "2  1992  11.787817\n",
       "3  1993   6.326890\n",
       "4  1994  10.247936"
      ]
     },
     "execution_count": 6,
     "metadata": {},
     "output_type": "execute_result"
    }
   ],
   "source": [
    "inf.head()"
   ]
  },
  {
   "cell_type": "code",
   "execution_count": 7,
   "id": "d2cb8454-d065-459d-8843-894f103931fc",
   "metadata": {},
   "outputs": [
    {
     "data": {
      "text/html": [
       "<div>\n",
       "<style scoped>\n",
       "    .dataframe tbody tr th:only-of-type {\n",
       "        vertical-align: middle;\n",
       "    }\n",
       "\n",
       "    .dataframe tbody tr th {\n",
       "        vertical-align: top;\n",
       "    }\n",
       "\n",
       "    .dataframe thead th {\n",
       "        text-align: right;\n",
       "    }\n",
       "</style>\n",
       "<table border=\"1\" class=\"dataframe\">\n",
       "  <thead>\n",
       "    <tr style=\"text-align: right;\">\n",
       "      <th></th>\n",
       "      <th>year</th>\n",
       "      <th>rate</th>\n",
       "    </tr>\n",
       "  </thead>\n",
       "  <tbody>\n",
       "    <tr>\n",
       "      <th>count</th>\n",
       "      <td>35.000000</td>\n",
       "      <td>35.000000</td>\n",
       "    </tr>\n",
       "    <tr>\n",
       "      <th>mean</th>\n",
       "      <td>2007.000000</td>\n",
       "      <td>7.082763</td>\n",
       "    </tr>\n",
       "    <tr>\n",
       "      <th>std</th>\n",
       "      <td>10.246951</td>\n",
       "      <td>3.030116</td>\n",
       "    </tr>\n",
       "    <tr>\n",
       "      <th>min</th>\n",
       "      <td>1990.000000</td>\n",
       "      <td>3.328173</td>\n",
       "    </tr>\n",
       "    <tr>\n",
       "      <th>25%</th>\n",
       "      <td>1998.500000</td>\n",
       "      <td>4.483486</td>\n",
       "    </tr>\n",
       "    <tr>\n",
       "      <th>50%</th>\n",
       "      <td>2007.000000</td>\n",
       "      <td>6.372881</td>\n",
       "    </tr>\n",
       "    <tr>\n",
       "      <th>75%</th>\n",
       "      <td>2015.500000</td>\n",
       "      <td>9.228075</td>\n",
       "    </tr>\n",
       "    <tr>\n",
       "      <th>max</th>\n",
       "      <td>2024.000000</td>\n",
       "      <td>13.870246</td>\n",
       "    </tr>\n",
       "  </tbody>\n",
       "</table>\n",
       "</div>"
      ],
      "text/plain": [
       "              year       rate\n",
       "count    35.000000  35.000000\n",
       "mean   2007.000000   7.082763\n",
       "std      10.246951   3.030116\n",
       "min    1990.000000   3.328173\n",
       "25%    1998.500000   4.483486\n",
       "50%    2007.000000   6.372881\n",
       "75%    2015.500000   9.228075\n",
       "max    2024.000000  13.870246"
      ]
     },
     "execution_count": 7,
     "metadata": {},
     "output_type": "execute_result"
    }
   ],
   "source": [
    "inf.describe()"
   ]
  },
  {
   "cell_type": "code",
   "execution_count": 8,
   "id": "891b2f09-4585-473a-b19e-c158079d0a70",
   "metadata": {},
   "outputs": [
    {
     "data": {
      "text/plain": [
       "Text(0, 0.5, 'Rate')"
      ]
     },
     "execution_count": 8,
     "metadata": {},
     "output_type": "execute_result"
    },
    {
     "data": {
      "image/png": "[encoded data removed]",
      "text/plain": [
       "<Figure size 800x600 with 1 Axes>"
      ]
     },
     "metadata": {},
     "output_type": "display_data"
    }
   ],
   "source": [
    "fig, ax = plt.subplots(figsize=(8, 6))\n",
    "ax.plot(inf['year'], inf['rate'])\n",
    "ax.set_title('Inflation rate')\n",
    "ax.set_xlabel('Year')\n",
    "ax.set_ylabel('Rate')"
   ]
  },
  {
   "cell_type": "markdown",
   "id": "935c9634-1e45-4974-84ca-83b69ae85f2c",
   "metadata": {},
   "source": [
    "## Interest Rate"
   ]
  },
  {
   "cell_type": "code",
   "execution_count": 9,
   "id": "fc8fe415-e604-4b42-9f51-93d8bf5c100e",
   "metadata": {},
   "outputs": [
    {
     "data": {
      "text/html": [
       "<div>\n",
       "<style scoped>\n",
       "    .dataframe tbody tr th:only-of-type {\n",
       "        vertical-align: middle;\n",
       "    }\n",
       "\n",
       "    .dataframe tbody tr th {\n",
       "        vertical-align: top;\n",
       "    }\n",
       "\n",
       "    .dataframe thead th {\n",
       "        text-align: right;\n",
       "    }\n",
       "</style>\n",
       "<table border=\"1\" class=\"dataframe\">\n",
       "  <thead>\n",
       "    <tr style=\"text-align: right;\">\n",
       "      <th></th>\n",
       "      <th>year</th>\n",
       "      <th>rate</th>\n",
       "    </tr>\n",
       "  </thead>\n",
       "  <tbody>\n",
       "    <tr>\n",
       "      <th>0</th>\n",
       "      <td>1990</td>\n",
       "      <td>5.269527</td>\n",
       "    </tr>\n",
       "    <tr>\n",
       "      <th>1</th>\n",
       "      <td>1991</td>\n",
       "      <td>3.624717</td>\n",
       "    </tr>\n",
       "    <tr>\n",
       "      <th>2</th>\n",
       "      <td>1992</td>\n",
       "      <td>9.132749</td>\n",
       "    </tr>\n",
       "    <tr>\n",
       "      <th>3</th>\n",
       "      <td>1993</td>\n",
       "      <td>5.814777</td>\n",
       "    </tr>\n",
       "    <tr>\n",
       "      <th>4</th>\n",
       "      <td>1994</td>\n",
       "      <td>4.337110</td>\n",
       "    </tr>\n",
       "  </tbody>\n",
       "</table>\n",
       "</div>"
      ],
      "text/plain": [
       "   year      rate\n",
       "0  1990  5.269527\n",
       "1  1991  3.624717\n",
       "2  1992  9.132749\n",
       "3  1993  5.814777\n",
       "4  1994  4.337110"
      ]
     },
     "execution_count": 9,
     "metadata": {},
     "output_type": "execute_result"
    }
   ],
   "source": [
    "intr.head()"
   ]
  },
  {
   "cell_type": "code",
   "execution_count": 10,
   "id": "14cedecd-40d9-4e1c-8621-81cd51176495",
   "metadata": {},
   "outputs": [
    {
     "data": {
      "text/html": [
       "<div>\n",
       "<style scoped>\n",
       "    .dataframe tbody tr th:only-of-type {\n",
       "        vertical-align: middle;\n",
       "    }\n",
       "\n",
       "    .dataframe tbody tr th {\n",
       "        vertical-align: top;\n",
       "    }\n",
       "\n",
       "    .dataframe thead th {\n",
       "        text-align: right;\n",
       "    }\n",
       "</style>\n",
       "<table border=\"1\" class=\"dataframe\">\n",
       "  <thead>\n",
       "    <tr style=\"text-align: right;\">\n",
       "      <th></th>\n",
       "      <th>year</th>\n",
       "      <th>rate</th>\n",
       "    </tr>\n",
       "  </thead>\n",
       "  <tbody>\n",
       "    <tr>\n",
       "      <th>count</th>\n",
       "      <td>35.000000</td>\n",
       "      <td>35.000000</td>\n",
       "    </tr>\n",
       "    <tr>\n",
       "      <th>mean</th>\n",
       "      <td>2007.000000</td>\n",
       "      <td>4.983257</td>\n",
       "    </tr>\n",
       "    <tr>\n",
       "      <th>std</th>\n",
       "      <td>10.246951</td>\n",
       "      <td>2.675766</td>\n",
       "    </tr>\n",
       "    <tr>\n",
       "      <th>min</th>\n",
       "      <td>1990.000000</td>\n",
       "      <td>-1.983859</td>\n",
       "    </tr>\n",
       "    <tr>\n",
       "      <th>25%</th>\n",
       "      <td>1998.500000</td>\n",
       "      <td>3.698236</td>\n",
       "    </tr>\n",
       "    <tr>\n",
       "      <th>50%</th>\n",
       "      <td>2007.000000</td>\n",
       "      <td>5.269527</td>\n",
       "    </tr>\n",
       "    <tr>\n",
       "      <th>75%</th>\n",
       "      <td>2015.500000</td>\n",
       "      <td>6.902227</td>\n",
       "    </tr>\n",
       "    <tr>\n",
       "      <th>max</th>\n",
       "      <td>2024.000000</td>\n",
       "      <td>9.191247</td>\n",
       "    </tr>\n",
       "  </tbody>\n",
       "</table>\n",
       "</div>"
      ],
      "text/plain": [
       "              year       rate\n",
       "count    35.000000  35.000000\n",
       "mean   2007.000000   4.983257\n",
       "std      10.246951   2.675766\n",
       "min    1990.000000  -1.983859\n",
       "25%    1998.500000   3.698236\n",
       "50%    2007.000000   5.269527\n",
       "75%    2015.500000   6.902227\n",
       "max    2024.000000   9.191247"
      ]
     },
     "execution_count": 10,
     "metadata": {},
     "output_type": "execute_result"
    }
   ],
   "source": [
    "intr.describe()"
   ]
  },
  {
   "cell_type": "code",
   "execution_count": 11,
   "id": "4a37d91c-1618-4ee7-ad65-7e1680f06194",
   "metadata": {},
   "outputs": [
    {
     "data": {
      "text/plain": [
       "Text(0, 0.5, 'Rate')"
      ]
     },
     "execution_count": 11,
     "metadata": {},
     "output_type": "execute_result"
    },
    {
     "data": {
      "image/png": "[encoded data removed]",
      "text/plain": [
       "<Figure size 800x600 with 1 Axes>"
      ]
     },
     "metadata": {},
     "output_type": "display_data"
    }
   ],
   "source": [
    "fig, ax = plt.subplots(figsize=(8, 6))\n",
    "ax.plot(intr['year'], intr['rate'])\n",
    "ax.set_title('Interest rate')\n",
    "ax.set_xlabel('Year')\n",
    "ax.set_ylabel('Rate')"
   ]
  },
  {
   "cell_type": "markdown",
   "id": "e6109ae3-9a63-4820-858d-22895f05a3f4",
   "metadata": {},
   "source": [
    "## Leap year and Election year"
   ]
  },
  {
   "cell_type": "code",
   "execution_count": 12,
   "id": "a87cea39-d1cc-4283-a658-ae68c41c537a",
   "metadata": {},
   "outputs": [
    {
     "data": {
      "text/html": [
       "<div>\n",
       "<style scoped>\n",
       "    .dataframe tbody tr th:only-of-type {\n",
       "        vertical-align: middle;\n",
       "    }\n",
       "\n",
       "    .dataframe tbody tr th {\n",
       "        vertical-align: top;\n",
       "    }\n",
       "\n",
       "    .dataframe thead th {\n",
       "        text-align: right;\n",
       "    }\n",
       "</style>\n",
       "<table border=\"1\" class=\"dataframe\">\n",
       "  <thead>\n",
       "    <tr style=\"text-align: right;\">\n",
       "      <th></th>\n",
       "      <th>year</th>\n",
       "      <th>leap</th>\n",
       "      <th>election</th>\n",
       "    </tr>\n",
       "  </thead>\n",
       "  <tbody>\n",
       "    <tr>\n",
       "      <th>0</th>\n",
       "      <td>1990</td>\n",
       "      <td>0</td>\n",
       "      <td>0</td>\n",
       "    </tr>\n",
       "    <tr>\n",
       "      <th>1</th>\n",
       "      <td>1991</td>\n",
       "      <td>0</td>\n",
       "      <td>0</td>\n",
       "    </tr>\n",
       "    <tr>\n",
       "      <th>2</th>\n",
       "      <td>1992</td>\n",
       "      <td>1</td>\n",
       "      <td>0</td>\n",
       "    </tr>\n",
       "    <tr>\n",
       "      <th>3</th>\n",
       "      <td>1993</td>\n",
       "      <td>0</td>\n",
       "      <td>0</td>\n",
       "    </tr>\n",
       "    <tr>\n",
       "      <th>4</th>\n",
       "      <td>1994</td>\n",
       "      <td>0</td>\n",
       "      <td>1</td>\n",
       "    </tr>\n",
       "  </tbody>\n",
       "</table>\n",
       "</div>"
      ],
      "text/plain": [
       "   year  leap  election\n",
       "0  1990     0         0\n",
       "1  1991     0         0\n",
       "2  1992     1         0\n",
       "3  1993     0         0\n",
       "4  1994     0         1"
      ]
     },
     "execution_count": 12,
     "metadata": {},
     "output_type": "execute_result"
    }
   ],
   "source": [
    "lpel.head()"
   ]
  },
  {
   "cell_type": "code",
   "execution_count": 13,
   "id": "e906d21d-7cdb-46e5-b3bd-9db4d181a334",
   "metadata": {},
   "outputs": [
    {
     "data": {
      "text/plain": [
       "leap        9\n",
       "election    7\n",
       "dtype: int64"
      ]
     },
     "execution_count": 13,
     "metadata": {},
     "output_type": "execute_result"
    }
   ],
   "source": [
    "lpel.sum()[1:]"
   ]
  },
  {
   "cell_type": "code",
   "execution_count": 14,
   "id": "3ae83366-d11e-434f-8216-8ffe72f3f7ee",
   "metadata": {},
   "outputs": [
    {
     "data": {
      "text/plain": [
       "<Axes: xlabel='leap', ylabel='count'>"
      ]
     },
     "execution_count": 14,
     "metadata": {},
     "output_type": "execute_result"
    },
    {
     "data": {
      "image/png": "[encoded data removed]",
      "text/plain": [
       "<Figure size 640x480 with 1 Axes>"
      ]
     },
     "metadata": {},
     "output_type": "display_data"
    }
   ],
   "source": [
    "sns.countplot(x ='leap', data = lpel)"
   ]
  },
  {
   "cell_type": "code",
   "execution_count": 15,
   "id": "fe9a1202-f166-4dda-9a60-a94df20493a2",
   "metadata": {},
   "outputs": [
    {
     "data": {
      "text/plain": [
       "<Axes: xlabel='election', ylabel='count'>"
      ]
     },
     "execution_count": 15,
     "metadata": {},
     "output_type": "execute_result"
    },
    {
     "data": {
      "image/png": "[encoded data removed]",
      "text/plain": [
       "<Figure size 640x480 with 1 Axes>"
      ]
     },
     "metadata": {},
     "output_type": "display_data"
    }
   ],
   "source": [
    "sns.countplot(x ='election', data = lpel)"
   ]
  },
  {
   "cell_type": "markdown",
   "id": "9c17947d-e713-4e1a-8067-97c7da35b0b1",
   "metadata": {},
   "source": [
    "## USD vs INR"
   ]
  },
  {
   "cell_type": "code",
   "execution_count": 16,
   "id": "c027d26e-81c0-4776-9c83-383fa6cbc55b",
   "metadata": {},
   "outputs": [
    {
     "data": {
      "text/html": [
       "<div>\n",
       "<style scoped>\n",
       "    .dataframe tbody tr th:only-of-type {\n",
       "        vertical-align: middle;\n",
       "    }\n",
       "\n",
       "    .dataframe tbody tr th {\n",
       "        vertical-align: top;\n",
       "    }\n",
       "\n",
       "    .dataframe thead th {\n",
       "        text-align: right;\n",
       "    }\n",
       "</style>\n",
       "<table border=\"1\" class=\"dataframe\">\n",
       "  <thead>\n",
       "    <tr style=\"text-align: right;\">\n",
       "      <th></th>\n",
       "      <th>date</th>\n",
       "      <th>price</th>\n",
       "    </tr>\n",
       "  </thead>\n",
       "  <tbody>\n",
       "    <tr>\n",
       "      <th>0</th>\n",
       "      <td>1990-01-02</td>\n",
       "      <td>16.80</td>\n",
       "    </tr>\n",
       "    <tr>\n",
       "      <th>1</th>\n",
       "      <td>1990-01-03</td>\n",
       "      <td>16.89</td>\n",
       "    </tr>\n",
       "    <tr>\n",
       "      <th>2</th>\n",
       "      <td>1990-01-04</td>\n",
       "      <td>16.90</td>\n",
       "    </tr>\n",
       "    <tr>\n",
       "      <th>3</th>\n",
       "      <td>1990-01-05</td>\n",
       "      <td>16.88</td>\n",
       "    </tr>\n",
       "    <tr>\n",
       "      <th>4</th>\n",
       "      <td>1990-01-08</td>\n",
       "      <td>16.88</td>\n",
       "    </tr>\n",
       "  </tbody>\n",
       "</table>\n",
       "</div>"
      ],
      "text/plain": [
       "        date  price\n",
       "0 1990-01-02  16.80\n",
       "1 1990-01-03  16.89\n",
       "2 1990-01-04  16.90\n",
       "3 1990-01-05  16.88\n",
       "4 1990-01-08  16.88"
      ]
     },
     "execution_count": 16,
     "metadata": {},
     "output_type": "execute_result"
    }
   ],
   "source": [
    "usinr.head()"
   ]
  },
  {
   "cell_type": "code",
   "execution_count": 17,
   "id": "344e1fb6-3f1d-45fb-a332-b8960d003d83",
   "metadata": {},
   "outputs": [
    {
     "data": {
      "text/html": [
       "<div>\n",
       "<style scoped>\n",
       "    .dataframe tbody tr th:only-of-type {\n",
       "        vertical-align: middle;\n",
       "    }\n",
       "\n",
       "    .dataframe tbody tr th {\n",
       "        vertical-align: top;\n",
       "    }\n",
       "\n",
       "    .dataframe thead th {\n",
       "        text-align: right;\n",
       "    }\n",
       "</style>\n",
       "<table border=\"1\" class=\"dataframe\">\n",
       "  <thead>\n",
       "    <tr style=\"text-align: right;\">\n",
       "      <th></th>\n",
       "      <th>date</th>\n",
       "      <th>price</th>\n",
       "    </tr>\n",
       "  </thead>\n",
       "  <tbody>\n",
       "    <tr>\n",
       "      <th>count</th>\n",
       "      <td>8941</td>\n",
       "      <td>8941.000000</td>\n",
       "    </tr>\n",
       "    <tr>\n",
       "      <th>mean</th>\n",
       "      <td>2007-03-10 00:39:08.193714176</td>\n",
       "      <td>49.931407</td>\n",
       "    </tr>\n",
       "    <tr>\n",
       "      <th>min</th>\n",
       "      <td>1990-01-02 00:00:00</td>\n",
       "      <td>16.800000</td>\n",
       "    </tr>\n",
       "    <tr>\n",
       "      <th>25%</th>\n",
       "      <td>1998-08-13 00:00:00</td>\n",
       "      <td>39.650000</td>\n",
       "    </tr>\n",
       "    <tr>\n",
       "      <th>50%</th>\n",
       "      <td>2007-03-13 00:00:00</td>\n",
       "      <td>46.285000</td>\n",
       "    </tr>\n",
       "    <tr>\n",
       "      <th>75%</th>\n",
       "      <td>2015-10-06 00:00:00</td>\n",
       "      <td>64.095000</td>\n",
       "    </tr>\n",
       "    <tr>\n",
       "      <th>max</th>\n",
       "      <td>2024-04-30 00:00:00</td>\n",
       "      <td>85.194000</td>\n",
       "    </tr>\n",
       "    <tr>\n",
       "      <th>std</th>\n",
       "      <td>NaN</td>\n",
       "      <td>16.355911</td>\n",
       "    </tr>\n",
       "  </tbody>\n",
       "</table>\n",
       "</div>"
      ],
      "text/plain": [
       "                                date        price\n",
       "count                           8941  8941.000000\n",
       "mean   2007-03-10 00:39:08.193714176    49.931407\n",
       "min              1990-01-02 00:00:00    16.800000\n",
       "25%              1998-08-13 00:00:00    39.650000\n",
       "50%              2007-03-13 00:00:00    46.285000\n",
       "75%              2015-10-06 00:00:00    64.095000\n",
       "max              2024-04-30 00:00:00    85.194000\n",
       "std                              NaN    16.355911"
      ]
     },
     "execution_count": 17,
     "metadata": {},
     "output_type": "execute_result"
    }
   ],
   "source": [
    "usinr.describe()"
   ]
  },
  {
   "cell_type": "code",
   "execution_count": 18,
   "id": "70ddf92c-4fae-434c-9aeb-ef024d2a5947",
   "metadata": {},
   "outputs": [
    {
     "data": {
      "text/plain": [
       "Text(0, 0.5, 'Price')"
      ]
     },
     "execution_count": 18,
     "metadata": {},
     "output_type": "execute_result"
    },
    {
     "data": {
      "image/png": "[encoded data removed]",
      "text/plain": [
       "<Figure size 1400x600 with 1 Axes>"
      ]
     },
     "metadata": {},
     "output_type": "display_data"
    }
   ],
   "source": [
    "fig, ax = plt.subplots(figsize=(14, 6))\n",
    "ax.plot(usinr['date'], usinr['price'])\n",
    "ax.set_title('USD vs INR')\n",
    "ax.set_xlabel('Year')\n",
    "ax.set_ylabel('Price')"
   ]
  },
  {
   "cell_type": "markdown",
   "id": "c8b312a8-486b-4de5-a8d5-56209cb468df",
   "metadata": {},
   "source": [
    "## Sensex"
   ]
  },
  {
   "cell_type": "code",
   "execution_count": 19,
   "id": "030120db-fa2e-4a31-a296-12258797f6cc",
   "metadata": {},
   "outputs": [
    {
     "data": {
      "text/html": [
       "<div>\n",
       "<style scoped>\n",
       "    .dataframe tbody tr th:only-of-type {\n",
       "        vertical-align: middle;\n",
       "    }\n",
       "\n",
       "    .dataframe tbody tr th {\n",
       "        vertical-align: top;\n",
       "    }\n",
       "\n",
       "    .dataframe thead th {\n",
       "        text-align: right;\n",
       "    }\n",
       "</style>\n",
       "<table border=\"1\" class=\"dataframe\">\n",
       "  <thead>\n",
       "    <tr style=\"text-align: right;\">\n",
       "      <th></th>\n",
       "      <th>date</th>\n",
       "      <th>price</th>\n",
       "    </tr>\n",
       "  </thead>\n",
       "  <tbody>\n",
       "    <tr>\n",
       "      <th>0</th>\n",
       "      <td>1990-01-01</td>\n",
       "      <td>783.35</td>\n",
       "    </tr>\n",
       "    <tr>\n",
       "      <th>1</th>\n",
       "      <td>1990-01-02</td>\n",
       "      <td>780.01</td>\n",
       "    </tr>\n",
       "    <tr>\n",
       "      <th>2</th>\n",
       "      <td>1990-01-03</td>\n",
       "      <td>763.22</td>\n",
       "    </tr>\n",
       "    <tr>\n",
       "      <th>3</th>\n",
       "      <td>1990-01-04</td>\n",
       "      <td>760.80</td>\n",
       "    </tr>\n",
       "    <tr>\n",
       "      <th>4</th>\n",
       "      <td>1990-01-05</td>\n",
       "      <td>774.58</td>\n",
       "    </tr>\n",
       "  </tbody>\n",
       "</table>\n",
       "</div>"
      ],
      "text/plain": [
       "        date   price\n",
       "0 1990-01-01  783.35\n",
       "1 1990-01-02  780.01\n",
       "2 1990-01-03  763.22\n",
       "3 1990-01-04  760.80\n",
       "4 1990-01-05  774.58"
      ]
     },
     "execution_count": 19,
     "metadata": {},
     "output_type": "execute_result"
    }
   ],
   "source": [
    "ssx.head()"
   ]
  },
  {
   "cell_type": "code",
   "execution_count": 20,
   "id": "0f7d351c",
   "metadata": {},
   "outputs": [
    {
     "data": {
      "text/html": [
       "<div>\n",
       "<style scoped>\n",
       "    .dataframe tbody tr th:only-of-type {\n",
       "        vertical-align: middle;\n",
       "    }\n",
       "\n",
       "    .dataframe tbody tr th {\n",
       "        vertical-align: top;\n",
       "    }\n",
       "\n",
       "    .dataframe thead th {\n",
       "        text-align: right;\n",
       "    }\n",
       "</style>\n",
       "<table border=\"1\" class=\"dataframe\">\n",
       "  <thead>\n",
       "    <tr style=\"text-align: right;\">\n",
       "      <th></th>\n",
       "      <th>date</th>\n",
       "      <th>price</th>\n",
       "    </tr>\n",
       "  </thead>\n",
       "  <tbody>\n",
       "    <tr>\n",
       "      <th>count</th>\n",
       "      <td>8294</td>\n",
       "      <td>8294.000000</td>\n",
       "    </tr>\n",
       "    <tr>\n",
       "      <th>mean</th>\n",
       "      <td>2007-07-20 21:14:22.020737792</td>\n",
       "      <td>18055.862613</td>\n",
       "    </tr>\n",
       "    <tr>\n",
       "      <th>min</th>\n",
       "      <td>1990-01-01 00:00:00</td>\n",
       "      <td>659.300000</td>\n",
       "    </tr>\n",
       "    <tr>\n",
       "      <th>25%</th>\n",
       "      <td>1999-04-26 12:00:00</td>\n",
       "      <td>3637.815000</td>\n",
       "    </tr>\n",
       "    <tr>\n",
       "      <th>50%</th>\n",
       "      <td>2007-07-30 12:00:00</td>\n",
       "      <td>13168.645000</td>\n",
       "    </tr>\n",
       "    <tr>\n",
       "      <th>75%</th>\n",
       "      <td>2015-12-10 18:00:00</td>\n",
       "      <td>27206.570000</td>\n",
       "    </tr>\n",
       "    <tr>\n",
       "      <th>max</th>\n",
       "      <td>2024-04-30 00:00:00</td>\n",
       "      <td>75038.150000</td>\n",
       "    </tr>\n",
       "    <tr>\n",
       "      <th>std</th>\n",
       "      <td>NaN</td>\n",
       "      <td>17886.311187</td>\n",
       "    </tr>\n",
       "  </tbody>\n",
       "</table>\n",
       "</div>"
      ],
      "text/plain": [
       "                                date         price\n",
       "count                           8294   8294.000000\n",
       "mean   2007-07-20 21:14:22.020737792  18055.862613\n",
       "min              1990-01-01 00:00:00    659.300000\n",
       "25%              1999-04-26 12:00:00   3637.815000\n",
       "50%              2007-07-30 12:00:00  13168.645000\n",
       "75%              2015-12-10 18:00:00  27206.570000\n",
       "max              2024-04-30 00:00:00  75038.150000\n",
       "std                              NaN  17886.311187"
      ]
     },
     "execution_count": 20,
     "metadata": {},
     "output_type": "execute_result"
    }
   ],
   "source": [
    "ssx.describe()"
   ]
  },
  {
   "cell_type": "code",
   "execution_count": 21,
   "id": "b4b97407-c02e-428e-bcc5-97c2d5cb7c91",
   "metadata": {},
   "outputs": [
    {
     "data": {
      "text/plain": [
       "Text(0, 0.5, 'Price')"
      ]
     },
     "execution_count": 21,
     "metadata": {},
     "output_type": "execute_result"
    },
    {
     "data": {
      "image/png": "[encoded data removed]",
      "text/plain": [
       "<Figure size 1400x600 with 1 Axes>"
      ]
     },
     "metadata": {},
     "output_type": "display_data"
    }
   ],
   "source": [
    "fig, ax = plt.subplots(figsize=(14, 6))\n",
    "ax.plot(ssx['date'], ssx['price'])\n",
    "ax.set_title('BSE Sunsex')\n",
    "ax.set_xlabel('Year')\n",
    "ax.set_ylabel('Price')"
   ]
  },
  {
   "cell_type": "markdown",
   "id": "196a7800-2627-452e-8e72-c43353183468",
   "metadata": {},
   "source": [
    "## Dow Jones"
   ]
  },
  {
   "cell_type": "code",
   "execution_count": 22,
   "id": "0efc1ce8",
   "metadata": {},
   "outputs": [
    {
     "data": {
      "text/html": [
       "<div>\n",
       "<style scoped>\n",
       "    .dataframe tbody tr th:only-of-type {\n",
       "        vertical-align: middle;\n",
       "    }\n",
       "\n",
       "    .dataframe tbody tr th {\n",
       "        vertical-align: top;\n",
       "    }\n",
       "\n",
       "    .dataframe thead th {\n",
       "        text-align: right;\n",
       "    }\n",
       "</style>\n",
       "<table border=\"1\" class=\"dataframe\">\n",
       "  <thead>\n",
       "    <tr style=\"text-align: right;\">\n",
       "      <th></th>\n",
       "      <th>year</th>\n",
       "      <th>points</th>\n",
       "    </tr>\n",
       "  </thead>\n",
       "  <tbody>\n",
       "    <tr>\n",
       "      <th>0</th>\n",
       "      <td>1990</td>\n",
       "      <td>2679.45</td>\n",
       "    </tr>\n",
       "    <tr>\n",
       "      <th>1</th>\n",
       "      <td>1991</td>\n",
       "      <td>2929.04</td>\n",
       "    </tr>\n",
       "    <tr>\n",
       "      <th>2</th>\n",
       "      <td>1992</td>\n",
       "      <td>3284.08</td>\n",
       "    </tr>\n",
       "    <tr>\n",
       "      <th>3</th>\n",
       "      <td>1993</td>\n",
       "      <td>3524.92</td>\n",
       "    </tr>\n",
       "    <tr>\n",
       "      <th>4</th>\n",
       "      <td>1994</td>\n",
       "      <td>3794.22</td>\n",
       "    </tr>\n",
       "  </tbody>\n",
       "</table>\n",
       "</div>"
      ],
      "text/plain": [
       "   year   points\n",
       "0  1990  2679.45\n",
       "1  1991  2929.04\n",
       "2  1992  3284.08\n",
       "3  1993  3524.92\n",
       "4  1994  3794.22"
      ]
     },
     "execution_count": 22,
     "metadata": {},
     "output_type": "execute_result"
    }
   ],
   "source": [
    "dj.head()"
   ]
  },
  {
   "cell_type": "code",
   "execution_count": 23,
   "id": "1da35d18",
   "metadata": {},
   "outputs": [
    {
     "data": {
      "text/html": [
       "<div>\n",
       "<style scoped>\n",
       "    .dataframe tbody tr th:only-of-type {\n",
       "        vertical-align: middle;\n",
       "    }\n",
       "\n",
       "    .dataframe tbody tr th {\n",
       "        vertical-align: top;\n",
       "    }\n",
       "\n",
       "    .dataframe thead th {\n",
       "        text-align: right;\n",
       "    }\n",
       "</style>\n",
       "<table border=\"1\" class=\"dataframe\">\n",
       "  <thead>\n",
       "    <tr style=\"text-align: right;\">\n",
       "      <th></th>\n",
       "      <th>year</th>\n",
       "      <th>points</th>\n",
       "    </tr>\n",
       "  </thead>\n",
       "  <tbody>\n",
       "    <tr>\n",
       "      <th>count</th>\n",
       "      <td>35.000000</td>\n",
       "      <td>35.000000</td>\n",
       "    </tr>\n",
       "    <tr>\n",
       "      <th>mean</th>\n",
       "      <td>2007.000000</td>\n",
       "      <td>14330.823714</td>\n",
       "    </tr>\n",
       "    <tr>\n",
       "      <th>std</th>\n",
       "      <td>10.246951</td>\n",
       "      <td>9915.974375</td>\n",
       "    </tr>\n",
       "    <tr>\n",
       "      <th>min</th>\n",
       "      <td>1990.000000</td>\n",
       "      <td>2679.450000</td>\n",
       "    </tr>\n",
       "    <tr>\n",
       "      <th>25%</th>\n",
       "      <td>1998.500000</td>\n",
       "      <td>8758.205000</td>\n",
       "    </tr>\n",
       "    <tr>\n",
       "      <th>50%</th>\n",
       "      <td>2007.000000</td>\n",
       "      <td>10729.380000</td>\n",
       "    </tr>\n",
       "    <tr>\n",
       "      <th>75%</th>\n",
       "      <td>2015.500000</td>\n",
       "      <td>17757.070000</td>\n",
       "    </tr>\n",
       "    <tr>\n",
       "      <th>max</th>\n",
       "      <td>2024.000000</td>\n",
       "      <td>39807.370000</td>\n",
       "    </tr>\n",
       "  </tbody>\n",
       "</table>\n",
       "</div>"
      ],
      "text/plain": [
       "              year        points\n",
       "count    35.000000     35.000000\n",
       "mean   2007.000000  14330.823714\n",
       "std      10.246951   9915.974375\n",
       "min    1990.000000   2679.450000\n",
       "25%    1998.500000   8758.205000\n",
       "50%    2007.000000  10729.380000\n",
       "75%    2015.500000  17757.070000\n",
       "max    2024.000000  39807.370000"
      ]
     },
     "execution_count": 23,
     "metadata": {},
     "output_type": "execute_result"
    }
   ],
   "source": [
    "dj.describe()"
   ]
  },
  {
   "cell_type": "code",
   "execution_count": 24,
   "id": "38d03609",
   "metadata": {},
   "outputs": [
    {
     "data": {
      "text/plain": [
       "Text(0, 0.5, 'Points')"
      ]
     },
     "execution_count": 24,
     "metadata": {},
     "output_type": "execute_result"
    },
    {
     "data": {
      "image/png": "[encoded data removed]",
      "text/plain": [
       "<Figure size 800x600 with 1 Axes>"
      ]
     },
     "metadata": {},
     "output_type": "display_data"
    }
   ],
   "source": [
    "fig, ax = plt.subplots(figsize=(8, 6))\n",
    "ax.plot(dj['year'], dj['points'])\n",
    "ax.set_title('Dow Jones')\n",
    "ax.set_xlabel('Year')\n",
    "ax.set_ylabel('Points')"
   ]
  },
  {
   "cell_type": "markdown",
   "id": "19af1843",
   "metadata": {},
   "source": [
    "## Gold"
   ]
  },
  {
   "cell_type": "code",
   "execution_count": 25,
   "id": "62fbcf81",
   "metadata": {},
   "outputs": [
    {
     "data": {
      "text/html": [
       "<div>\n",
       "<style scoped>\n",
       "    .dataframe tbody tr th:only-of-type {\n",
       "        vertical-align: middle;\n",
       "    }\n",
       "\n",
       "    .dataframe tbody tr th {\n",
       "        vertical-align: top;\n",
       "    }\n",
       "\n",
       "    .dataframe thead th {\n",
       "        text-align: right;\n",
       "    }\n",
       "</style>\n",
       "<table border=\"1\" class=\"dataframe\">\n",
       "  <thead>\n",
       "    <tr style=\"text-align: right;\">\n",
       "      <th></th>\n",
       "      <th>year</th>\n",
       "      <th>price/10gm</th>\n",
       "    </tr>\n",
       "  </thead>\n",
       "  <tbody>\n",
       "    <tr>\n",
       "      <th>0</th>\n",
       "      <td>1990</td>\n",
       "      <td>3200.0</td>\n",
       "    </tr>\n",
       "    <tr>\n",
       "      <th>1</th>\n",
       "      <td>1991</td>\n",
       "      <td>3466.0</td>\n",
       "    </tr>\n",
       "    <tr>\n",
       "      <th>2</th>\n",
       "      <td>1992</td>\n",
       "      <td>4334.0</td>\n",
       "    </tr>\n",
       "    <tr>\n",
       "      <th>3</th>\n",
       "      <td>1993</td>\n",
       "      <td>4140.0</td>\n",
       "    </tr>\n",
       "    <tr>\n",
       "      <th>4</th>\n",
       "      <td>1994</td>\n",
       "      <td>4598.0</td>\n",
       "    </tr>\n",
       "  </tbody>\n",
       "</table>\n",
       "</div>"
      ],
      "text/plain": [
       "   year  price/10gm\n",
       "0  1990      3200.0\n",
       "1  1991      3466.0\n",
       "2  1992      4334.0\n",
       "3  1993      4140.0\n",
       "4  1994      4598.0"
      ]
     },
     "execution_count": 25,
     "metadata": {},
     "output_type": "execute_result"
    }
   ],
   "source": [
    "gold.head()"
   ]
  },
  {
   "cell_type": "code",
   "execution_count": 26,
   "id": "fd5b9222",
   "metadata": {},
   "outputs": [
    {
     "data": {
      "text/html": [
       "<div>\n",
       "<style scoped>\n",
       "    .dataframe tbody tr th:only-of-type {\n",
       "        vertical-align: middle;\n",
       "    }\n",
       "\n",
       "    .dataframe tbody tr th {\n",
       "        vertical-align: top;\n",
       "    }\n",
       "\n",
       "    .dataframe thead th {\n",
       "        text-align: right;\n",
       "    }\n",
       "</style>\n",
       "<table border=\"1\" class=\"dataframe\">\n",
       "  <thead>\n",
       "    <tr style=\"text-align: right;\">\n",
       "      <th></th>\n",
       "      <th>year</th>\n",
       "      <th>price/10gm</th>\n",
       "    </tr>\n",
       "  </thead>\n",
       "  <tbody>\n",
       "    <tr>\n",
       "      <th>count</th>\n",
       "      <td>35.000000</td>\n",
       "      <td>35.000000</td>\n",
       "    </tr>\n",
       "    <tr>\n",
       "      <th>mean</th>\n",
       "      <td>2007.000000</td>\n",
       "      <td>19715.171429</td>\n",
       "    </tr>\n",
       "    <tr>\n",
       "      <th>std</th>\n",
       "      <td>10.246951</td>\n",
       "      <td>18876.541663</td>\n",
       "    </tr>\n",
       "    <tr>\n",
       "      <th>min</th>\n",
       "      <td>1990.000000</td>\n",
       "      <td>3200.000000</td>\n",
       "    </tr>\n",
       "    <tr>\n",
       "      <th>25%</th>\n",
       "      <td>1998.500000</td>\n",
       "      <td>4639.000000</td>\n",
       "    </tr>\n",
       "    <tr>\n",
       "      <th>50%</th>\n",
       "      <td>2007.000000</td>\n",
       "      <td>10800.000000</td>\n",
       "    </tr>\n",
       "    <tr>\n",
       "      <th>75%</th>\n",
       "      <td>2015.500000</td>\n",
       "      <td>29633.750000</td>\n",
       "    </tr>\n",
       "    <tr>\n",
       "      <th>max</th>\n",
       "      <td>2024.000000</td>\n",
       "      <td>68799.000000</td>\n",
       "    </tr>\n",
       "  </tbody>\n",
       "</table>\n",
       "</div>"
      ],
      "text/plain": [
       "              year    price/10gm\n",
       "count    35.000000     35.000000\n",
       "mean   2007.000000  19715.171429\n",
       "std      10.246951  18876.541663\n",
       "min    1990.000000   3200.000000\n",
       "25%    1998.500000   4639.000000\n",
       "50%    2007.000000  10800.000000\n",
       "75%    2015.500000  29633.750000\n",
       "max    2024.000000  68799.000000"
      ]
     },
     "execution_count": 26,
     "metadata": {},
     "output_type": "execute_result"
    }
   ],
   "source": [
    "gold.describe()"
   ]
  },
  {
   "cell_type": "code",
   "execution_count": 27,
   "id": "a7ec7889",
   "metadata": {},
   "outputs": [
    {
     "data": {
      "text/plain": [
       "Text(0, 0.5, 'Price / 10gm')"
      ]
     },
     "execution_count": 27,
     "metadata": {},
     "output_type": "execute_result"
    },
    {
     "data": {
      "image/png": "[encoded data removed]",
      "text/plain": [
       "<Figure size 800x600 with 1 Axes>"
      ]
     },
     "metadata": {},
     "output_type": "display_data"
    }
   ],
   "source": [
    "fig, ax = plt.subplots(figsize=(8, 6))\n",
    "ax.plot(gold['year'], gold['price/10gm'])\n",
    "ax.set_title('Gold')\n",
    "ax.set_xlabel('Year')\n",
    "ax.set_ylabel('Price / 10gm')"
   ]
  },
  {
   "cell_type": "markdown",
   "id": "b8c42d39",
   "metadata": {},
   "source": [
    "## Oil"
   ]
  },
  {
   "cell_type": "code",
   "execution_count": 28,
   "id": "9eaf6b29",
   "metadata": {},
   "outputs": [
    {
     "data": {
      "text/html": [
       "<div>\n",
       "<style scoped>\n",
       "    .dataframe tbody tr th:only-of-type {\n",
       "        vertical-align: middle;\n",
       "    }\n",
       "\n",
       "    .dataframe tbody tr th {\n",
       "        vertical-align: top;\n",
       "    }\n",
       "\n",
       "    .dataframe thead th {\n",
       "        text-align: right;\n",
       "    }\n",
       "</style>\n",
       "<table border=\"1\" class=\"dataframe\">\n",
       "  <thead>\n",
       "    <tr style=\"text-align: right;\">\n",
       "      <th></th>\n",
       "      <th>year</th>\n",
       "      <th>price</th>\n",
       "    </tr>\n",
       "  </thead>\n",
       "  <tbody>\n",
       "    <tr>\n",
       "      <th>0</th>\n",
       "      <td>1990</td>\n",
       "      <td>24.53</td>\n",
       "    </tr>\n",
       "    <tr>\n",
       "      <th>1</th>\n",
       "      <td>1991</td>\n",
       "      <td>21.54</td>\n",
       "    </tr>\n",
       "    <tr>\n",
       "      <th>2</th>\n",
       "      <td>1992</td>\n",
       "      <td>20.58</td>\n",
       "    </tr>\n",
       "    <tr>\n",
       "      <th>3</th>\n",
       "      <td>1993</td>\n",
       "      <td>18.43</td>\n",
       "    </tr>\n",
       "    <tr>\n",
       "      <th>4</th>\n",
       "      <td>1994</td>\n",
       "      <td>17.20</td>\n",
       "    </tr>\n",
       "  </tbody>\n",
       "</table>\n",
       "</div>"
      ],
      "text/plain": [
       "   year  price\n",
       "0  1990  24.53\n",
       "1  1991  21.54\n",
       "2  1992  20.58\n",
       "3  1993  18.43\n",
       "4  1994  17.20"
      ]
     },
     "execution_count": 28,
     "metadata": {},
     "output_type": "execute_result"
    }
   ],
   "source": [
    "oil.head()"
   ]
  },
  {
   "cell_type": "code",
   "execution_count": 29,
   "id": "10e1b615",
   "metadata": {},
   "outputs": [
    {
     "data": {
      "text/html": [
       "<div>\n",
       "<style scoped>\n",
       "    .dataframe tbody tr th:only-of-type {\n",
       "        vertical-align: middle;\n",
       "    }\n",
       "\n",
       "    .dataframe tbody tr th {\n",
       "        vertical-align: top;\n",
       "    }\n",
       "\n",
       "    .dataframe thead th {\n",
       "        text-align: right;\n",
       "    }\n",
       "</style>\n",
       "<table border=\"1\" class=\"dataframe\">\n",
       "  <thead>\n",
       "    <tr style=\"text-align: right;\">\n",
       "      <th></th>\n",
       "      <th>year</th>\n",
       "      <th>price</th>\n",
       "    </tr>\n",
       "  </thead>\n",
       "  <tbody>\n",
       "    <tr>\n",
       "      <th>count</th>\n",
       "      <td>35.000000</td>\n",
       "      <td>35.000000</td>\n",
       "    </tr>\n",
       "    <tr>\n",
       "      <th>mean</th>\n",
       "      <td>2007.000000</td>\n",
       "      <td>51.473429</td>\n",
       "    </tr>\n",
       "    <tr>\n",
       "      <th>std</th>\n",
       "      <td>10.246951</td>\n",
       "      <td>28.942203</td>\n",
       "    </tr>\n",
       "    <tr>\n",
       "      <th>min</th>\n",
       "      <td>1990.000000</td>\n",
       "      <td>14.420000</td>\n",
       "    </tr>\n",
       "    <tr>\n",
       "      <th>25%</th>\n",
       "      <td>1998.500000</td>\n",
       "      <td>23.325000</td>\n",
       "    </tr>\n",
       "    <tr>\n",
       "      <th>50%</th>\n",
       "      <td>2007.000000</td>\n",
       "      <td>48.660000</td>\n",
       "    </tr>\n",
       "    <tr>\n",
       "      <th>75%</th>\n",
       "      <td>2015.500000</td>\n",
       "      <td>74.990000</td>\n",
       "    </tr>\n",
       "    <tr>\n",
       "      <th>max</th>\n",
       "      <td>2024.000000</td>\n",
       "      <td>99.670000</td>\n",
       "    </tr>\n",
       "  </tbody>\n",
       "</table>\n",
       "</div>"
      ],
      "text/plain": [
       "              year      price\n",
       "count    35.000000  35.000000\n",
       "mean   2007.000000  51.473429\n",
       "std      10.246951  28.942203\n",
       "min    1990.000000  14.420000\n",
       "25%    1998.500000  23.325000\n",
       "50%    2007.000000  48.660000\n",
       "75%    2015.500000  74.990000\n",
       "max    2024.000000  99.670000"
      ]
     },
     "execution_count": 29,
     "metadata": {},
     "output_type": "execute_result"
    }
   ],
   "source": [
    "oil.describe()"
   ]
  },
  {
   "cell_type": "code",
   "execution_count": 30,
   "id": "070920ff",
   "metadata": {},
   "outputs": [
    {
     "data": {
      "text/plain": [
       "Text(0, 0.5, 'price')"
      ]
     },
     "execution_count": 30,
     "metadata": {},
     "output_type": "execute_result"
    },
    {
     "data": {
      "image/png": "[encoded data removed]",
      "text/plain": [
       "<Figure size 800x600 with 1 Axes>"
      ]
     },
     "metadata": {},
     "output_type": "display_data"
    }
   ],
   "source": [
    "fig, ax = plt.subplots(figsize=(8, 6))\n",
    "ax.plot(oil['year'], oil['price'])\n",
    "ax.set_title('Oil')\n",
    "ax.set_xlabel('Year')\n",
    "ax.set_ylabel('price')"
   ]
  },
  {
   "cell_type": "markdown",
   "id": "059615ad",
   "metadata": {},
   "source": [
    "## Merging Data"
   ]
  },
  {
   "cell_type": "code",
   "execution_count": 31,
   "id": "ceb83dd3",
   "metadata": {},
   "outputs": [],
   "source": [
    "df = pd.merge(ssx, usinr, on='date', how='inner', suffixes=('_ssx', '_usinr'))\n",
    "df['year'] = df['date'].dt.year\n",
    "df['month'] = df['date'].dt.month\n",
    "df['day'] = df['date'].dt.day"
   ]
  },
  {
   "cell_type": "code",
   "execution_count": 32,
   "id": "04900f3f",
   "metadata": {},
   "outputs": [],
   "source": [
    "df = df.merge(\n",
    "    gdp, on='year', how='inner'\n",
    ").merge(\n",
    "    inf, on='year', how='inner'\n",
    ").merge(\n",
    "    intr, on='year', how='inner', suffixes=('_inf', '_intr')\n",
    ").merge(\n",
    "    lpel, on='year', how='inner'\n",
    ").merge(\n",
    "    dj, on='year', how='inner'\n",
    ").merge(\n",
    "    gold, on='year', how='inner'\n",
    ").merge(\n",
    "    oil, on='year', how='inner'\n",
    ")"
   ]
  },
  {
   "cell_type": "code",
   "execution_count": 33,
   "id": "c4f30d75",
   "metadata": {},
   "outputs": [
    {
     "data": {
      "text/html": [
       "<div>\n",
       "<style scoped>\n",
       "    .dataframe tbody tr th:only-of-type {\n",
       "        vertical-align: middle;\n",
       "    }\n",
       "\n",
       "    .dataframe tbody tr th {\n",
       "        vertical-align: top;\n",
       "    }\n",
       "\n",
       "    .dataframe thead th {\n",
       "        text-align: right;\n",
       "    }\n",
       "</style>\n",
       "<table border=\"1\" class=\"dataframe\">\n",
       "  <thead>\n",
       "    <tr style=\"text-align: right;\">\n",
       "      <th></th>\n",
       "      <th>date</th>\n",
       "      <th>price_ssx</th>\n",
       "      <th>price_usinr</th>\n",
       "      <th>year</th>\n",
       "      <th>month</th>\n",
       "      <th>day</th>\n",
       "      <th>gdp</th>\n",
       "      <th>rate_inf</th>\n",
       "      <th>rate_intr</th>\n",
       "      <th>leap</th>\n",
       "      <th>election</th>\n",
       "      <th>points</th>\n",
       "      <th>price/10gm</th>\n",
       "      <th>price</th>\n",
       "    </tr>\n",
       "  </thead>\n",
       "  <tbody>\n",
       "    <tr>\n",
       "      <th>0</th>\n",
       "      <td>1990-01-02</td>\n",
       "      <td>780.01</td>\n",
       "      <td>16.80</td>\n",
       "      <td>1990</td>\n",
       "      <td>1</td>\n",
       "      <td>2</td>\n",
       "      <td>5.533455</td>\n",
       "      <td>8.971233</td>\n",
       "      <td>5.269527</td>\n",
       "      <td>0</td>\n",
       "      <td>0</td>\n",
       "      <td>2679.45</td>\n",
       "      <td>3200.0</td>\n",
       "      <td>24.53</td>\n",
       "    </tr>\n",
       "    <tr>\n",
       "      <th>1</th>\n",
       "      <td>1990-01-03</td>\n",
       "      <td>763.22</td>\n",
       "      <td>16.89</td>\n",
       "      <td>1990</td>\n",
       "      <td>1</td>\n",
       "      <td>3</td>\n",
       "      <td>5.533455</td>\n",
       "      <td>8.971233</td>\n",
       "      <td>5.269527</td>\n",
       "      <td>0</td>\n",
       "      <td>0</td>\n",
       "      <td>2679.45</td>\n",
       "      <td>3200.0</td>\n",
       "      <td>24.53</td>\n",
       "    </tr>\n",
       "    <tr>\n",
       "      <th>2</th>\n",
       "      <td>1990-01-04</td>\n",
       "      <td>760.80</td>\n",
       "      <td>16.90</td>\n",
       "      <td>1990</td>\n",
       "      <td>1</td>\n",
       "      <td>4</td>\n",
       "      <td>5.533455</td>\n",
       "      <td>8.971233</td>\n",
       "      <td>5.269527</td>\n",
       "      <td>0</td>\n",
       "      <td>0</td>\n",
       "      <td>2679.45</td>\n",
       "      <td>3200.0</td>\n",
       "      <td>24.53</td>\n",
       "    </tr>\n",
       "    <tr>\n",
       "      <th>3</th>\n",
       "      <td>1990-01-05</td>\n",
       "      <td>774.58</td>\n",
       "      <td>16.88</td>\n",
       "      <td>1990</td>\n",
       "      <td>1</td>\n",
       "      <td>5</td>\n",
       "      <td>5.533455</td>\n",
       "      <td>8.971233</td>\n",
       "      <td>5.269527</td>\n",
       "      <td>0</td>\n",
       "      <td>0</td>\n",
       "      <td>2679.45</td>\n",
       "      <td>3200.0</td>\n",
       "      <td>24.53</td>\n",
       "    </tr>\n",
       "    <tr>\n",
       "      <th>4</th>\n",
       "      <td>1990-01-08</td>\n",
       "      <td>778.33</td>\n",
       "      <td>16.88</td>\n",
       "      <td>1990</td>\n",
       "      <td>1</td>\n",
       "      <td>8</td>\n",
       "      <td>5.533455</td>\n",
       "      <td>8.971233</td>\n",
       "      <td>5.269527</td>\n",
       "      <td>0</td>\n",
       "      <td>0</td>\n",
       "      <td>2679.45</td>\n",
       "      <td>3200.0</td>\n",
       "      <td>24.53</td>\n",
       "    </tr>\n",
       "  </tbody>\n",
       "</table>\n",
       "</div>"
      ],
      "text/plain": [
       "        date  price_ssx  price_usinr  year  month  day       gdp  rate_inf  \\\n",
       "0 1990-01-02     780.01        16.80  1990      1    2  5.533455  8.971233   \n",
       "1 1990-01-03     763.22        16.89  1990      1    3  5.533455  8.971233   \n",
       "2 1990-01-04     760.80        16.90  1990      1    4  5.533455  8.971233   \n",
       "3 1990-01-05     774.58        16.88  1990      1    5  5.533455  8.971233   \n",
       "4 1990-01-08     778.33        16.88  1990      1    8  5.533455  8.971233   \n",
       "\n",
       "   rate_intr  leap  election   points  price/10gm  price  \n",
       "0   5.269527     0         0  2679.45      3200.0  24.53  \n",
       "1   5.269527     0         0  2679.45      3200.0  24.53  \n",
       "2   5.269527     0         0  2679.45      3200.0  24.53  \n",
       "3   5.269527     0         0  2679.45      3200.0  24.53  \n",
       "4   5.269527     0         0  2679.45      3200.0  24.53  "
      ]
     },
     "execution_count": 33,
     "metadata": {},
     "output_type": "execute_result"
    }
   ],
   "source": [
    "df.head()"
   ]
  },
  {
   "cell_type": "code",
   "execution_count": 34,
   "id": "cd4839f8",
   "metadata": {},
   "outputs": [],
   "source": [
    "df.columns = ['date', 'points', 'usinr', 'year', 'month', 'day', 'gdp', 'inflation',\n",
    "       'interest', 'leap', 'election', 'dow_jones', 'gold', 'oil']"
   ]
  },
  {
   "cell_type": "code",
   "execution_count": 35,
   "id": "4ed4f8ae",
   "metadata": {},
   "outputs": [],
   "source": [
    "df = df.iloc[:, [0, 2, 6, 7, 8, 9, 10, 11, 12, 13, 1]]"
   ]
  },
  {
   "cell_type": "code",
   "execution_count": 36,
   "id": "47ffdb3f",
   "metadata": {},
   "outputs": [
    {
     "data": {
      "text/html": [
       "<div>\n",
       "<style scoped>\n",
       "    .dataframe tbody tr th:only-of-type {\n",
       "        vertical-align: middle;\n",
       "    }\n",
       "\n",
       "    .dataframe tbody tr th {\n",
       "        vertical-align: top;\n",
       "    }\n",
       "\n",
       "    .dataframe thead th {\n",
       "        text-align: right;\n",
       "    }\n",
       "</style>\n",
       "<table border=\"1\" class=\"dataframe\">\n",
       "  <thead>\n",
       "    <tr style=\"text-align: right;\">\n",
       "      <th></th>\n",
       "      <th>usinr</th>\n",
       "      <th>gdp</th>\n",
       "      <th>inflation</th>\n",
       "      <th>interest</th>\n",
       "      <th>leap</th>\n",
       "      <th>election</th>\n",
       "      <th>dow_jones</th>\n",
       "      <th>gold</th>\n",
       "      <th>oil</th>\n",
       "      <th>points</th>\n",
       "    </tr>\n",
       "    <tr>\n",
       "      <th>date</th>\n",
       "      <th></th>\n",
       "      <th></th>\n",
       "      <th></th>\n",
       "      <th></th>\n",
       "      <th></th>\n",
       "      <th></th>\n",
       "      <th></th>\n",
       "      <th></th>\n",
       "      <th></th>\n",
       "      <th></th>\n",
       "    </tr>\n",
       "  </thead>\n",
       "  <tbody>\n",
       "    <tr>\n",
       "      <th>1990-01-02</th>\n",
       "      <td>16.800000</td>\n",
       "      <td>5.533455</td>\n",
       "      <td>8.971233</td>\n",
       "      <td>5.269527</td>\n",
       "      <td>0</td>\n",
       "      <td>0</td>\n",
       "      <td>2679.45</td>\n",
       "      <td>3200.0</td>\n",
       "      <td>24.53</td>\n",
       "      <td>780.01</td>\n",
       "    </tr>\n",
       "    <tr>\n",
       "      <th>1990-01-03</th>\n",
       "      <td>16.890000</td>\n",
       "      <td>5.533455</td>\n",
       "      <td>8.971233</td>\n",
       "      <td>5.269527</td>\n",
       "      <td>0</td>\n",
       "      <td>0</td>\n",
       "      <td>2679.45</td>\n",
       "      <td>3200.0</td>\n",
       "      <td>24.53</td>\n",
       "      <td>763.22</td>\n",
       "    </tr>\n",
       "    <tr>\n",
       "      <th>1990-01-04</th>\n",
       "      <td>16.900000</td>\n",
       "      <td>5.533455</td>\n",
       "      <td>8.971233</td>\n",
       "      <td>5.269527</td>\n",
       "      <td>0</td>\n",
       "      <td>0</td>\n",
       "      <td>2679.45</td>\n",
       "      <td>3200.0</td>\n",
       "      <td>24.53</td>\n",
       "      <td>760.80</td>\n",
       "    </tr>\n",
       "    <tr>\n",
       "      <th>1990-01-05</th>\n",
       "      <td>16.880000</td>\n",
       "      <td>5.533455</td>\n",
       "      <td>8.971233</td>\n",
       "      <td>5.269527</td>\n",
       "      <td>0</td>\n",
       "      <td>0</td>\n",
       "      <td>2679.45</td>\n",
       "      <td>3200.0</td>\n",
       "      <td>24.53</td>\n",
       "      <td>774.58</td>\n",
       "    </tr>\n",
       "    <tr>\n",
       "      <th>1990-01-08</th>\n",
       "      <td>16.880000</td>\n",
       "      <td>5.533455</td>\n",
       "      <td>8.971233</td>\n",
       "      <td>5.269527</td>\n",
       "      <td>0</td>\n",
       "      <td>0</td>\n",
       "      <td>2679.45</td>\n",
       "      <td>3200.0</td>\n",
       "      <td>24.53</td>\n",
       "      <td>778.33</td>\n",
       "    </tr>\n",
       "    <tr>\n",
       "      <th>...</th>\n",
       "      <td>...</td>\n",
       "      <td>...</td>\n",
       "      <td>...</td>\n",
       "      <td>...</td>\n",
       "      <td>...</td>\n",
       "      <td>...</td>\n",
       "      <td>...</td>\n",
       "      <td>...</td>\n",
       "      <td>...</td>\n",
       "      <td>...</td>\n",
       "    </tr>\n",
       "    <tr>\n",
       "      <th>2024-04-24</th>\n",
       "      <td>83.283302</td>\n",
       "      <td>2.730000</td>\n",
       "      <td>5.090000</td>\n",
       "      <td>2.000000</td>\n",
       "      <td>1</td>\n",
       "      <td>1</td>\n",
       "      <td>39807.37</td>\n",
       "      <td>68799.0</td>\n",
       "      <td>88.02</td>\n",
       "      <td>73852.94</td>\n",
       "    </tr>\n",
       "    <tr>\n",
       "      <th>2024-04-25</th>\n",
       "      <td>83.340599</td>\n",
       "      <td>2.730000</td>\n",
       "      <td>5.090000</td>\n",
       "      <td>2.000000</td>\n",
       "      <td>1</td>\n",
       "      <td>1</td>\n",
       "      <td>39807.37</td>\n",
       "      <td>68799.0</td>\n",
       "      <td>88.02</td>\n",
       "      <td>74339.44</td>\n",
       "    </tr>\n",
       "    <tr>\n",
       "      <th>2024-04-26</th>\n",
       "      <td>83.301804</td>\n",
       "      <td>2.730000</td>\n",
       "      <td>5.090000</td>\n",
       "      <td>2.000000</td>\n",
       "      <td>1</td>\n",
       "      <td>1</td>\n",
       "      <td>39807.37</td>\n",
       "      <td>68799.0</td>\n",
       "      <td>88.02</td>\n",
       "      <td>73730.16</td>\n",
       "    </tr>\n",
       "    <tr>\n",
       "      <th>2024-04-29</th>\n",
       "      <td>83.402298</td>\n",
       "      <td>2.730000</td>\n",
       "      <td>5.090000</td>\n",
       "      <td>2.000000</td>\n",
       "      <td>1</td>\n",
       "      <td>1</td>\n",
       "      <td>39807.37</td>\n",
       "      <td>68799.0</td>\n",
       "      <td>88.02</td>\n",
       "      <td>74671.28</td>\n",
       "    </tr>\n",
       "    <tr>\n",
       "      <th>2024-04-30</th>\n",
       "      <td>83.451103</td>\n",
       "      <td>2.730000</td>\n",
       "      <td>5.090000</td>\n",
       "      <td>2.000000</td>\n",
       "      <td>1</td>\n",
       "      <td>1</td>\n",
       "      <td>39807.37</td>\n",
       "      <td>68799.0</td>\n",
       "      <td>88.02</td>\n",
       "      <td>74482.78</td>\n",
       "    </tr>\n",
       "  </tbody>\n",
       "</table>\n",
       "<p>8242 rows × 10 columns</p>\n",
       "</div>"
      ],
      "text/plain": [
       "                usinr       gdp  inflation  interest  leap  election  \\\n",
       "date                                                                   \n",
       "1990-01-02  16.800000  5.533455   8.971233  5.269527     0         0   \n",
       "1990-01-03  16.890000  5.533455   8.971233  5.269527     0         0   \n",
       "1990-01-04  16.900000  5.533455   8.971233  5.269527     0         0   \n",
       "1990-01-05  16.880000  5.533455   8.971233  5.269527     0         0   \n",
       "1990-01-08  16.880000  5.533455   8.971233  5.269527     0         0   \n",
       "...               ...       ...        ...       ...   ...       ...   \n",
       "2024-04-24  83.283302  2.730000   5.090000  2.000000     1         1   \n",
       "2024-04-25  83.340599  2.730000   5.090000  2.000000     1         1   \n",
       "2024-04-26  83.301804  2.730000   5.090000  2.000000     1         1   \n",
       "2024-04-29  83.402298  2.730000   5.090000  2.000000     1         1   \n",
       "2024-04-30  83.451103  2.730000   5.090000  2.000000     1         1   \n",
       "\n",
       "            dow_jones     gold    oil    points  \n",
       "date                                             \n",
       "1990-01-02    2679.45   3200.0  24.53    780.01  \n",
       "1990-01-03    2679.45   3200.0  24.53    763.22  \n",
       "1990-01-04    2679.45   3200.0  24.53    760.80  \n",
       "1990-01-05    2679.45   3200.0  24.53    774.58  \n",
       "1990-01-08    2679.45   3200.0  24.53    778.33  \n",
       "...               ...      ...    ...       ...  \n",
       "2024-04-24   39807.37  68799.0  88.02  73852.94  \n",
       "2024-04-25   39807.37  68799.0  88.02  74339.44  \n",
       "2024-04-26   39807.37  68799.0  88.02  73730.16  \n",
       "2024-04-29   39807.37  68799.0  88.02  74671.28  \n",
       "2024-04-30   39807.37  68799.0  88.02  74482.78  \n",
       "\n",
       "[8242 rows x 10 columns]"
      ]
     },
     "execution_count": 36,
     "metadata": {},
     "output_type": "execute_result"
    }
   ],
   "source": [
    "df.set_index('date')"
   ]
  },
  {
   "cell_type": "code",
   "execution_count": 37,
   "id": "7b139a37",
   "metadata": {},
   "outputs": [],
   "source": [
    "df.to_csv('Data/main.csv', index=False)"
   ]
  },
  {
   "cell_type": "code",
   "execution_count": null,
   "id": "6e7f8586",
   "metadata": {},
   "outputs": [],
   "source": []
  }
 ],
 "metadata": {
  "kernelspec": {
   "display_name": "Python 3 (ipykernel)",
   "language": "python",
   "name": "python3"
  },
  "language_info": {
   "codemirror_mode": {
    "name": "ipython",
    "version": 3
   },
   "file_extension": ".py",
   "mimetype": "text/x-python",
   "name": "python",
   "nbconvert_exporter": "python",
   "pygments_lexer": "ipython3",
   "version": "3.10.11"
  }
 },
 "nbformat": 4,
 "nbformat_minor": 5
}
